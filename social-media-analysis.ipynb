{
 "cells": [
  {
   "cell_type": "code",
   "execution_count": 1,
   "id": "bc05fd12",
   "metadata": {
    "_cell_guid": "b1076dfc-b9ad-4769-8c92-a6c4dae69d19",
    "_uuid": "8f2839f25d086af736a60e9eeb907d3b93b6e0e5",
    "execution": {
     "iopub.execute_input": "2024-11-06T07:50:32.552138Z",
     "iopub.status.busy": "2024-11-06T07:50:32.551749Z",
     "iopub.status.idle": "2024-11-06T07:50:33.431544Z",
     "shell.execute_reply": "2024-11-06T07:50:33.430472Z"
    },
    "papermill": {
     "duration": 0.886411,
     "end_time": "2024-11-06T07:50:33.433925",
     "exception": false,
     "start_time": "2024-11-06T07:50:32.547514",
     "status": "completed"
    },
    "tags": []
   },
   "outputs": [
    {
     "name": "stdout",
     "output_type": "stream",
     "text": [
      "/kaggle/input/social-media-usage-datasetapplications/social_media_usage.csv\n"
     ]
    }
   ],
   "source": [
    "# This Python 3 environment comes with many helpful analytics libraries installed\n",
    "# It is defined by the kaggle/python Docker image: https://github.com/kaggle/docker-python\n",
    "# For example, here's several helpful packages to load\n",
    "\n",
    "import numpy as np # linear algebra\n",
    "import pandas as pd # data processing, CSV file I/O (e.g. pd.read_csv)\n",
    "\n",
    "# Input data files are available in the read-only \"../input/\" directory\n",
    "# For example, running this (by clicking run or pressing Shift+Enter) will list all files under the input directory\n",
    "\n",
    "import os\n",
    "for dirname, _, filenames in os.walk('/kaggle/input'):\n",
    "    for filename in filenames:\n",
    "        print(os.path.join(dirname, filename))\n",
    "\n",
    "# You can write up to 20GB to the current directory (/kaggle/working/) that gets preserved as output when you create a version using \"Save & Run All\" \n",
    "# You can also write temporary files to /kaggle/temp/, but they won't be saved outside of the current session"
   ]
  },
  {
   "cell_type": "markdown",
   "id": "42911ca9",
   "metadata": {
    "papermill": {
     "duration": 0.002004,
     "end_time": "2024-11-06T07:50:33.438605",
     "exception": false,
     "start_time": "2024-11-06T07:50:33.436601",
     "status": "completed"
    },
    "tags": []
   },
   "source": [
    "***Importing Libraries***"
   ]
  },
  {
   "cell_type": "code",
   "execution_count": 2,
   "id": "fe11f5fb",
   "metadata": {
    "execution": {
     "iopub.execute_input": "2024-11-06T07:50:33.444985Z",
     "iopub.status.busy": "2024-11-06T07:50:33.444151Z",
     "iopub.status.idle": "2024-11-06T07:50:35.683063Z",
     "shell.execute_reply": "2024-11-06T07:50:35.681865Z"
    },
    "papermill": {
     "duration": 2.24475,
     "end_time": "2024-11-06T07:50:35.685513",
     "exception": false,
     "start_time": "2024-11-06T07:50:33.440763",
     "status": "completed"
    },
    "tags": []
   },
   "outputs": [],
   "source": [
    "import pandas as pd\n",
    "import numpy as np\n",
    "import seaborn as sns\n",
    "import matplotlib.pyplot as plt\n",
    "import plotly.express as px\n",
    "import plotly.graph_objects as go\n",
    "import warnings\n",
    "warnings.filterwarnings('ignore')"
   ]
  },
  {
   "cell_type": "code",
   "execution_count": 3,
   "id": "fb432274",
   "metadata": {
    "execution": {
     "iopub.execute_input": "2024-11-06T07:50:35.692236Z",
     "iopub.status.busy": "2024-11-06T07:50:35.691630Z",
     "iopub.status.idle": "2024-11-06T07:50:35.710197Z",
     "shell.execute_reply": "2024-11-06T07:50:35.709042Z"
    },
    "papermill": {
     "duration": 0.024696,
     "end_time": "2024-11-06T07:50:35.712735",
     "exception": false,
     "start_time": "2024-11-06T07:50:35.688039",
     "status": "completed"
    },
    "tags": []
   },
   "outputs": [],
   "source": [
    "df = pd.read_csv(\"/kaggle/input/social-media-usage-datasetapplications/social_media_usage.csv\")"
   ]
  },
  {
   "cell_type": "code",
   "execution_count": 4,
   "id": "2f15cc8e",
   "metadata": {
    "execution": {
     "iopub.execute_input": "2024-11-06T07:50:35.718728Z",
     "iopub.status.busy": "2024-11-06T07:50:35.718329Z",
     "iopub.status.idle": "2024-11-06T07:50:35.738437Z",
     "shell.execute_reply": "2024-11-06T07:50:35.737304Z"
    },
    "papermill": {
     "duration": 0.02567,
     "end_time": "2024-11-06T07:50:35.740762",
     "exception": false,
     "start_time": "2024-11-06T07:50:35.715092",
     "status": "completed"
    },
    "tags": []
   },
   "outputs": [
    {
     "data": {
      "text/html": [
       "<div>\n",
       "<style scoped>\n",
       "    .dataframe tbody tr th:only-of-type {\n",
       "        vertical-align: middle;\n",
       "    }\n",
       "\n",
       "    .dataframe tbody tr th {\n",
       "        vertical-align: top;\n",
       "    }\n",
       "\n",
       "    .dataframe thead th {\n",
       "        text-align: right;\n",
       "    }\n",
       "</style>\n",
       "<table border=\"1\" class=\"dataframe\">\n",
       "  <thead>\n",
       "    <tr style=\"text-align: right;\">\n",
       "      <th></th>\n",
       "      <th>User_ID</th>\n",
       "      <th>App</th>\n",
       "      <th>Daily_Minutes_Spent</th>\n",
       "      <th>Posts_Per_Day</th>\n",
       "      <th>Likes_Per_Day</th>\n",
       "      <th>Follows_Per_Day</th>\n",
       "    </tr>\n",
       "  </thead>\n",
       "  <tbody>\n",
       "    <tr>\n",
       "      <th>0</th>\n",
       "      <td>U_1</td>\n",
       "      <td>Pinterest</td>\n",
       "      <td>288</td>\n",
       "      <td>16</td>\n",
       "      <td>94</td>\n",
       "      <td>0</td>\n",
       "    </tr>\n",
       "    <tr>\n",
       "      <th>1</th>\n",
       "      <td>U_2</td>\n",
       "      <td>Facebook</td>\n",
       "      <td>192</td>\n",
       "      <td>14</td>\n",
       "      <td>117</td>\n",
       "      <td>15</td>\n",
       "    </tr>\n",
       "    <tr>\n",
       "      <th>2</th>\n",
       "      <td>U_3</td>\n",
       "      <td>Instagram</td>\n",
       "      <td>351</td>\n",
       "      <td>13</td>\n",
       "      <td>120</td>\n",
       "      <td>48</td>\n",
       "    </tr>\n",
       "    <tr>\n",
       "      <th>3</th>\n",
       "      <td>U_4</td>\n",
       "      <td>TikTok</td>\n",
       "      <td>21</td>\n",
       "      <td>20</td>\n",
       "      <td>117</td>\n",
       "      <td>8</td>\n",
       "    </tr>\n",
       "    <tr>\n",
       "      <th>4</th>\n",
       "      <td>U_5</td>\n",
       "      <td>LinkedIn</td>\n",
       "      <td>241</td>\n",
       "      <td>16</td>\n",
       "      <td>9</td>\n",
       "      <td>21</td>\n",
       "    </tr>\n",
       "  </tbody>\n",
       "</table>\n",
       "</div>"
      ],
      "text/plain": [
       "  User_ID        App  Daily_Minutes_Spent  Posts_Per_Day  Likes_Per_Day  \\\n",
       "0     U_1  Pinterest                  288             16             94   \n",
       "1     U_2   Facebook                  192             14            117   \n",
       "2     U_3  Instagram                  351             13            120   \n",
       "3     U_4     TikTok                   21             20            117   \n",
       "4     U_5   LinkedIn                  241             16              9   \n",
       "\n",
       "   Follows_Per_Day  \n",
       "0                0  \n",
       "1               15  \n",
       "2               48  \n",
       "3                8  \n",
       "4               21  "
      ]
     },
     "execution_count": 4,
     "metadata": {},
     "output_type": "execute_result"
    }
   ],
   "source": [
    "df.head()"
   ]
  }
 ],
 "metadata": {
  "kaggle": {
   "accelerator": "none",
   "dataSources": [
    {
     "datasetId": 5930350,
     "sourceId": 9698544,
     "sourceType": "datasetVersion"
    }
   ],
   "dockerImageVersionId": 30786,
   "isGpuEnabled": false,
   "isInternetEnabled": false,
   "language": "python",
   "sourceType": "notebook"
  },
  "kernelspec": {
   "display_name": "Python 3",
   "language": "python",
   "name": "python3"
  },
  "language_info": {
   "codemirror_mode": {
    "name": "ipython",
    "version": 3
   },
   "file_extension": ".py",
   "mimetype": "text/x-python",
   "name": "python",
   "nbconvert_exporter": "python",
   "pygments_lexer": "ipython3",
   "version": "3.10.14"
  },
  "papermill": {
   "default_parameters": {},
   "duration": 6.935083,
   "end_time": "2024-11-06T07:50:36.363618",
   "environment_variables": {},
   "exception": null,
   "input_path": "__notebook__.ipynb",
   "output_path": "__notebook__.ipynb",
   "parameters": {},
   "start_time": "2024-11-06T07:50:29.428535",
   "version": "2.6.0"
  }
 },
 "nbformat": 4,
 "nbformat_minor": 5
}
